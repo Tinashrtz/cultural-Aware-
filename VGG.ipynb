{
 "cells": [
  {
   "cell_type": "markdown",
   "metadata": {},
   "source": [
    "libraries"
   ]
  },
  {
   "cell_type": "code",
   "execution_count": 40,
   "metadata": {},
   "outputs": [],
   "source": [
    "from PIL import Image\n",
    "import torch\n",
    "import torch.nn as nn\n",
    "import torchvision.models as models\n",
    "import torchvision.transforms as transforms\n",
    "from torch.utils.data import Dataset, DataLoader\n",
    "from sklearn.metrics import f1_score\n",
    "import pandas as pd\n",
    "from PIL import Image\n",
    "import matplotlib.pyplot as plt\n",
    "import numpy as np\n",
    "import os\n",
    "from sklearn.preprocessing import MultiLabelBinarizer\n",
    "import random\n",
    "from sklearn.metrics import f1_score, precision_score, recall_score, accuracy_score, hamming_loss\n",
    "import time\n",
    "import torch\n",
    "import torch.nn as nn\n",
    "import matplotlib.pyplot as plt\n",
    "import torch.nn.functional as F"
   ]
  },
  {
   "cell_type": "markdown",
   "metadata": {},
   "source": [
    "Configuration"
   ]
  },
  {
   "cell_type": "code",
   "execution_count": 41,
   "metadata": {},
   "outputs": [],
   "source": [
    "BATCH_SIZE = 64\n",
    "EPOCHS = 10\n",
    "LEARNING_RATE = 0.001\n",
    "#DEVICE = torch.device(\"cpu\")\n",
    "DEVICE = torch.device(\"mps\")\n",
    "UNFREEZE_EVERY_N_EPOCHS = 16"
   ]
  },
  {
   "cell_type": "markdown",
   "metadata": {},
   "source": [
    "Load your data"
   ]
  },
  {
   "cell_type": "code",
   "execution_count": 42,
   "metadata": {},
   "outputs": [],
   "source": [
    "df = pd.read_csv('art/artelingo_release.csv')\n",
    "df = df[:1000]\n",
    "\n",
    "# Update image paths\n",
    "df['image_file'] = df['image_file'].str.replace('YOUR/PATH/TO/WIKIART', 'wikiart')\n"
   ]
  },
  {
   "cell_type": "markdown",
   "metadata": {},
   "source": [
    "Data"
   ]
  },
  {
   "cell_type": "code",
   "execution_count": 43,
   "metadata": {},
   "outputs": [],
   "source": [
    "def preprocess_dataset(df):\n",
    "    # Iterate through the dataframe and drop rows with non-existing image paths\n",
    "    indices_to_drop = []\n",
    "    for idx, row in df.iterrows():\n",
    "        image_path = row['image_file']\n",
    "        if not os.path.exists(image_path):\n",
    "            #print(f\"Image not found: {image_path}. Skipping...\")\n",
    "            indices_to_drop.append(idx)\n",
    "\n",
    "    df = df.drop(indices_to_drop)\n",
    "    df.reset_index(drop=True, inplace=True)\n",
    "    return df\n",
    "\n",
    "\n",
    "paint_emotion_dict = {}\n",
    "for i in range(0,1000) :\n",
    "    if df.iloc[i,-2] not in paint_emotion_dict.keys():\n",
    "        paint_emotion_dict[df.iloc[i,-2]] = []\n",
    "    paint_emotion_dict[df.iloc[i,-2]].append(df.iloc[i,1])\n",
    "\n",
    "paint_emotion_dict\n",
    "\n",
    "df2 = pd.DataFrame()\n",
    "\n",
    "paths = []\n",
    "labels = []\n",
    "for k,v in paint_emotion_dict.items():\n",
    "    paths.append(k)\n",
    "    labels.append(sorted(list(set(v))))\n",
    "\n",
    "df2['image_file'] = paths\n",
    "df2['emotions'] = labels\n",
    "\n",
    "df2.head()\n",
    "\n",
    "# Preprocess the dataset to remove rows with non-existing image paths\n",
    "preprocessed_df = preprocess_dataset(df2)\n",
    "\n",
    "preprocessed_df.head(3)\n",
    "\n",
    "# Define your transformations\n",
    "transform = transforms.Compose([\n",
    "    transforms.Resize((224, 224)),\n",
    "    transforms.ToTensor(),\n",
    "    transforms.Normalize(mean=[0.485, 0.456, 0.406], std=[0.229, 0.224, 0.225]),\n",
    "])\n",
    "\n",
    "NUM_CLASSES = len(df['emotion_label'].unique())"
   ]
  },
  {
   "cell_type": "markdown",
   "metadata": {},
   "source": [
    "EmotionDataset"
   ]
  },
  {
   "cell_type": "code",
   "execution_count": 44,
   "metadata": {},
   "outputs": [],
   "source": [
    "class EmotionDataset(Dataset):\n",
    "    def __init__(self, df, transform=None, subset_percentage=0.2):\n",
    "        self.df = df.sample(frac=subset_percentage, random_state=42)  # Randomly sample a subset of data\n",
    "        self.transform = transform\n",
    "        self.mlb = MultiLabelBinarizer()\n",
    "        self.labels = self.mlb.fit_transform(self.df.emotions)\n",
    "\n",
    "    def __len__(self):\n",
    "        return len(self.df)\n",
    "\n",
    "    def __getitem__(self, idx):\n",
    "        row = self.df.iloc[idx]\n",
    "        image = Image.open(row['image_file']).convert('RGB')\n",
    "        if self.transform:\n",
    "            image = self.transform(image)\n",
    "        label = torch.tensor(self.labels[idx], dtype=torch.float32)\n",
    "        return image, label\n",
    "\n",
    "# Create dataset\n",
    "dataset = EmotionDataset(preprocessed_df, transform)"
   ]
  },
  {
   "cell_type": "markdown",
   "metadata": {},
   "source": [
    "Train - Test split"
   ]
  },
  {
   "cell_type": "code",
   "execution_count": 45,
   "metadata": {},
   "outputs": [],
   "source": [
    "train_size = int(0.8 * len(dataset))\n",
    "validation_size = len(dataset) - train_size\n",
    "train_dataset, validation_dataset = torch.utils.data.random_split(dataset, [train_size, validation_size])"
   ]
  },
  {
   "cell_type": "markdown",
   "metadata": {},
   "source": [
    "Data Loader"
   ]
  },
  {
   "cell_type": "code",
   "execution_count": 46,
   "metadata": {},
   "outputs": [],
   "source": [
    "train_loader = DataLoader(train_dataset, batch_size=BATCH_SIZE, shuffle=True)\n",
    "validation_loader = DataLoader(validation_dataset, batch_size=BATCH_SIZE, shuffle=False)"
   ]
  },
  {
   "cell_type": "markdown",
   "metadata": {},
   "source": [
    "VGG Model"
   ]
  },
  {
   "cell_type": "code",
   "execution_count": 47,
   "metadata": {},
   "outputs": [
    {
     "name": "stderr",
     "output_type": "stream",
     "text": [
      "/Users/tina/micromamba/lib/python3.9/site-packages/torchvision/models/_utils.py:208: UserWarning: The parameter 'pretrained' is deprecated since 0.13 and may be removed in the future, please use 'weights' instead.\n",
      "  warnings.warn(\n",
      "/Users/tina/micromamba/lib/python3.9/site-packages/torchvision/models/_utils.py:223: UserWarning: Arguments other than a weight enum or `None` for 'weights' are deprecated since 0.13 and may be removed in the future. The current behavior is equivalent to passing `weights=VGG16_Weights.IMAGENET1K_V1`. You can also use `weights=VGG16_Weights.DEFAULT` to get the most up-to-date weights.\n",
      "  warnings.warn(msg)\n"
     ]
    },
    {
     "name": "stdout",
     "output_type": "stream",
     "text": [
      "VGG(\n",
      "  (features): Sequential(\n",
      "    (0): Conv2d(3, 64, kernel_size=(3, 3), stride=(1, 1), padding=(1, 1))\n",
      "    (1): ReLU(inplace=True)\n",
      "    (2): Conv2d(64, 64, kernel_size=(3, 3), stride=(1, 1), padding=(1, 1))\n",
      "    (3): ReLU(inplace=True)\n",
      "    (4): MaxPool2d(kernel_size=2, stride=2, padding=0, dilation=1, ceil_mode=False)\n",
      "    (5): Conv2d(64, 128, kernel_size=(3, 3), stride=(1, 1), padding=(1, 1))\n",
      "    (6): ReLU(inplace=True)\n",
      "    (7): Conv2d(128, 128, kernel_size=(3, 3), stride=(1, 1), padding=(1, 1))\n",
      "    (8): ReLU(inplace=True)\n",
      "    (9): MaxPool2d(kernel_size=2, stride=2, padding=0, dilation=1, ceil_mode=False)\n",
      "    (10): Conv2d(128, 256, kernel_size=(3, 3), stride=(1, 1), padding=(1, 1))\n",
      "    (11): ReLU(inplace=True)\n",
      "    (12): Conv2d(256, 256, kernel_size=(3, 3), stride=(1, 1), padding=(1, 1))\n",
      "    (13): ReLU(inplace=True)\n",
      "    (14): Conv2d(256, 256, kernel_size=(3, 3), stride=(1, 1), padding=(1, 1))\n",
      "    (15): ReLU(inplace=True)\n",
      "    (16): MaxPool2d(kernel_size=2, stride=2, padding=0, dilation=1, ceil_mode=False)\n",
      "    (17): Conv2d(256, 512, kernel_size=(3, 3), stride=(1, 1), padding=(1, 1))\n",
      "    (18): ReLU(inplace=True)\n",
      "    (19): Conv2d(512, 512, kernel_size=(3, 3), stride=(1, 1), padding=(1, 1))\n",
      "    (20): ReLU(inplace=True)\n",
      "    (21): Conv2d(512, 512, kernel_size=(3, 3), stride=(1, 1), padding=(1, 1))\n",
      "    (22): ReLU(inplace=True)\n",
      "    (23): MaxPool2d(kernel_size=2, stride=2, padding=0, dilation=1, ceil_mode=False)\n",
      "    (24): Conv2d(512, 512, kernel_size=(3, 3), stride=(1, 1), padding=(1, 1))\n",
      "    (25): ReLU(inplace=True)\n",
      "    (26): Conv2d(512, 512, kernel_size=(3, 3), stride=(1, 1), padding=(1, 1))\n",
      "    (27): ReLU(inplace=True)\n",
      "    (28): Conv2d(512, 512, kernel_size=(3, 3), stride=(1, 1), padding=(1, 1))\n",
      "    (29): ReLU(inplace=True)\n",
      "    (30): MaxPool2d(kernel_size=2, stride=2, padding=0, dilation=1, ceil_mode=False)\n",
      "  )\n",
      "  (avgpool): AdaptiveAvgPool2d(output_size=(7, 7))\n",
      "  (classifier): Sequential(\n",
      "    (0): Linear(in_features=25088, out_features=4096, bias=True)\n",
      "    (1): ReLU(inplace=True)\n",
      "    (2): Dropout(p=0.5, inplace=False)\n",
      "    (3): Linear(in_features=4096, out_features=4096, bias=True)\n",
      "    (4): ReLU(inplace=True)\n",
      "    (5): Dropout(p=0.5, inplace=False)\n",
      "    (6): Linear(in_features=4096, out_features=1000, bias=True)\n",
      "  )\n",
      ")\n"
     ]
    }
   ],
   "source": [
    "# Load pre-trained VGG model\n",
    "model = models.vgg16(pretrained=True)\n",
    "\n",
    "\n",
    "\n",
    "# Freeze the model\n",
    "for param in model.parameters():\n",
    "    param.requires_grad = True\n",
    "\n",
    "print(model)"
   ]
  },
  {
   "cell_type": "markdown",
   "metadata": {},
   "source": [
    "Model changes"
   ]
  },
  {
   "cell_type": "code",
   "execution_count": 48,
   "metadata": {},
   "outputs": [
    {
     "name": "stdout",
     "output_type": "stream",
     "text": [
      "Linear(in_features=25088, out_features=4096, bias=True)\n"
     ]
    }
   ],
   "source": [
    "\"\"\" # Replace the classifier (fully connected) layers\n",
    "num_ftrs = model.classifier[6].in_features   #model.classifier typically refers to the fully connected layer\n",
    "model.classifier[6] = nn.Sequential(         #in_features refers to the number of input nodes\n",
    "    nn.Linear(num_ftrs, 768),\n",
    "    nn.ReLU(),\n",
    "    nn.BatchNorm1d(768),\n",
    "    nn.Dropout(0.5),\n",
    "    nn.Linear(768, 128),\n",
    "    nn.ReLU(),\n",
    "    nn.BatchNorm1d(128),\n",
    "    nn.Dropout(0.5),\n",
    "    nn.Linear(128, NUM_CLASSES),\n",
    "    nn.Sigmoid()\n",
    ") \"\"\"\n",
    "\n",
    "model = model.to(DEVICE)\n",
    "\n",
    "criterion = nn.L1Loss()\n",
    "#criterion = nn.CrossEntropyLoss()\n",
    "optimizer = torch.optim.Adam(model.parameters(), lr=LEARNING_RATE)\n",
    "print(model.classifier[0])"
   ]
  },
  {
   "cell_type": "code",
   "execution_count": 49,
   "metadata": {},
   "outputs": [],
   "source": [
    "# DEVICE = torch.device(\"cpu\")\n",
    "# input= 'wikiart/Ukiyo_e/hiroshige_a-bridge-across-a-deep-gorge.jpg' \n",
    "# image = Image.open(input)\n",
    "# #image.show()\n",
    "\n",
    "# transform = transforms.Compose([\n",
    "#     transforms.Resize((224, 224)),  # Resize the image to the size expected by the model\n",
    "#     transforms.ToTensor(),  # Convert the image to a PyTorch tensor\n",
    "#     transforms.Normalize(mean=[0.485, 0.456, 0.406], std=[0.229, 0.224, 0.225])  # Normalize with ImageNet mean and std\n",
    "# ])\n",
    "\n",
    "     \n",
    "\n",
    "# def output_shape(model, layer_index, input_tensor):\n",
    "#     # Extract layers up to and including the target layer\n",
    "#     layers = list(model.features.children())\n",
    "#     target_layers = nn.Sequential(*layers[:layer_index + 1])\n",
    "    \n",
    "#     # Perform a forward pass through the target layers\n",
    "#     with torch.no_grad():\n",
    "#         output = target_layers(input_tensor)\n",
    "    \n",
    "#     # Return the output and its shape\n",
    "#     return output, output.shape\n",
    "\n",
    "\n",
    "# layer_index = 30 ##########\n",
    "\n",
    "# image_tensor = transform(image)\n",
    "# print(\"image shape:\", image_tensor.shape)\n",
    "# print(\"______\")\n",
    "\n",
    "\n",
    "# #target_layer = target_layer()\n",
    "# out_put, out_size = output_shape(model,layer_index, image_tensor)\n",
    "# print(\"Output shape of the  layer:\", out_size)\n",
    "# channels = out_size[0]\n",
    "# print(out_size[0])\n",
    "# print(\"______\")\n",
    "\n",
    "\n",
    "\n",
    "# pooled_output = F.adaptive_avg_pool2d(out_put, (1, 1))\n",
    "# print(\"Output shape  \", pooled_output.shape)\n",
    "# print(\"______\")\n",
    "\n",
    "# falttened_output = torch.flatten(pooled_output) \n",
    "# print(\"flattened shape  \", falttened_output.shape)\n",
    "# print(\"______\")\n",
    "\n",
    "# DEVICE = torch.device(\"mps\")"
   ]
  },
  {
   "cell_type": "markdown",
   "metadata": {},
   "source": [
    "VGG Layers"
   ]
  },
  {
   "cell_type": "code",
   "execution_count": 50,
   "metadata": {},
   "outputs": [],
   "source": [
    "x = torch.randn(64, 64, 112, 112)\n",
    "\n",
    "x = F.adaptive_avg_pool2d(x,(1,1))\n",
    "\n",
    "x = x.squeeze()\n",
    "\n",
    "# print(x.shape) "
   ]
  },
  {
   "cell_type": "code",
   "execution_count": 51,
   "metadata": {},
   "outputs": [
    {
     "data": {
      "text/plain": [
       "torch.Size([64, 64])"
      ]
     },
     "execution_count": 51,
     "metadata": {},
     "output_type": "execute_result"
    }
   ],
   "source": [
    "x.shape"
   ]
  },
  {
   "cell_type": "code",
   "execution_count": 52,
   "metadata": {},
   "outputs": [
    {
     "data": {
      "text/plain": [
       "ModifiedVGG(\n",
       "  (classifier): Linear(in_features=128, out_features=9, bias=True)\n",
       "  (back_bone): Sequential(\n",
       "    (0): Conv2d(3, 64, kernel_size=(3, 3), stride=(1, 1), padding=(1, 1))\n",
       "    (1): ReLU(inplace=True)\n",
       "    (2): Conv2d(64, 64, kernel_size=(3, 3), stride=(1, 1), padding=(1, 1))\n",
       "    (3): ReLU(inplace=True)\n",
       "    (4): MaxPool2d(kernel_size=2, stride=2, padding=0, dilation=1, ceil_mode=False)\n",
       "    (5): Conv2d(64, 128, kernel_size=(3, 3), stride=(1, 1), padding=(1, 1))\n",
       "  )\n",
       ")"
      ]
     },
     "execution_count": 52,
     "metadata": {},
     "output_type": "execute_result"
    }
   ],
   "source": [
    "class ModifiedVGG(nn.Module):\n",
    "    def __init__(self, original_model,layer_index = 5):\n",
    "        super(ModifiedVGG, self).__init__()\n",
    "        # #num_ftrs = original_model.classifier[6].in_features \n",
    "        # print(num_ftrs)\n",
    "        # self.classifier[6] = nn.Sequential(\n",
    "        #     nn.Linear(192, 10),\n",
    "        #     nn.ReLU(),\n",
    "        #     nn.BatchNorm1d(768),\n",
    "        #     nn.Dropout(0.5),\n",
    "        #     nn.Linear(768, 128),\n",
    "        #     nn.ReLU(),\n",
    "        #     nn.BatchNorm1d(128),\n",
    "        #     nn.Dropout(0.5),\n",
    "        #     nn.Linear(128, NUM_CLASSES),\n",
    "        #     nn.Sigmoid()\n",
    "        # )\n",
    "        \n",
    "        self.classifier = nn.Linear(128, NUM_CLASSES)                           #0-64 /// 5-128 // 10-256 // 30-512\n",
    "        layers = list(original_model.features.children())\n",
    "        self.back_bone = nn.Sequential(*layers[:layer_index+1])\n",
    "        #self.back_bone = nn.Sequential(*layers[:layer_index + 1])\n",
    "        \n",
    "        # Global Average Pooling\n",
    "        # x = F.adaptive_avg_pool2d(out_put, (1, 1))\n",
    "        \n",
    "        self.pool=F.adaptive_avg_pool2d\n",
    "         \n",
    "    \n",
    "    def forward(self, x):\n",
    "        #print(2)\n",
    "        output = self.back_bone(x) \n",
    "        #print(3)\n",
    "        #print(output.shape)\n",
    "        pooled_output = self.pool(output,(1, 1))\n",
    "        pooled_output = pooled_output.squeeze()\n",
    "        #print(4)\n",
    "        # falttened_output = torch.flatten(pooled_output)  \n",
    "        #print(pooled_output.shape)\n",
    "        #print(5)\n",
    "   \n",
    "        \n",
    "        \n",
    "        final_output = self.classifier(pooled_output)\n",
    "        #print(6)\n",
    "        return final_output\n",
    "    \n",
    "\n",
    "\n",
    "# Load the original VGG model\n",
    "original_model = models.vgg16(pretrained=True)\n",
    "\n",
    "# Create an instance of the modified model\n",
    "model = ModifiedVGG(original_model,layer_index=5)\n",
    "model.to(DEVICE)\n",
    "\n"
   ]
  },
  {
   "cell_type": "markdown",
   "metadata": {},
   "source": [
    "accuracy"
   ]
  },
  {
   "cell_type": "code",
   "execution_count": 53,
   "metadata": {},
   "outputs": [],
   "source": [
    "def accuracy_score_cal(trues, preds):\n",
    "    # print(trues.shape)\n",
    "    total_acc = 0\n",
    "    for row1, row2 in zip(trues, preds):\n",
    "        total_acc += accuracy_score(row1, row2, normalize=False)\n",
    "        # print(f'current acc {total_acc}')\n",
    "        # print(f'row1 : {row1}\\nrow : {row2}')\n",
    "    return total_acc\n",
    "\n",
    "history = {'epoch': [], 'train_loss': [], 'train_acc': [], 'train_f1': [], 'train_precision': [], 'train_recall': [], 'train_hamming_loss':[],\n",
    "               'val_loss': [], 'val_acc': [], 'val_f1': [], 'val_precision': [], 'val_recall': [], 'val_hamming_loss':[]}"
   ]
  },
  {
   "cell_type": "markdown",
   "metadata": {},
   "source": [
    "Model Training"
   ]
  },
  {
   "cell_type": "code",
   "execution_count": 55,
   "metadata": {},
   "outputs": [
    {
     "name": "stdout",
     "output_type": "stream",
     "text": [
      "--- Epoch 1/50 - Batch 1/3 - Batch Loss: 1.0188 - Batch Acc: 5.2500 - Batch Hamming Loss: 0.4167 - Batch F1: 0.1176 - Batch Precision: 0.0769 - Batch Recall: 0.2500\n",
      "--- Epoch 1/50 - Batch 2/3 - Batch Loss: 0.8748 - Batch Acc: 5.6406 - Batch Hamming Loss: 0.3950 - Batch F1: 0.1366 - Batch Precision: 0.0902 - Batch Recall: 0.2812\n",
      "--- Epoch 1/50 - Batch 3/3 - Batch Loss: 0.7822 - Batch Acc: 5.6552 - Batch Hamming Loss: 0.3907 - Batch F1: 0.1321 - Batch Precision: 0.0877 - Batch Recall: 0.2675\n",
      "Epoch 1/50 - Train Loss: 0.0833 - Train Acc: 0.4983 - Train Hamming Loss: 0.4008 - Train F1: 0.1288 - Train Precision: 0.0849 - Train Recall: 0.2663 - Val Loss: 0.9916 - Val Acc: 0.3715 - Val Hamming Loss: 0.4056 - Val F1: 0.0988 - Val Precision: 0.0656 - Val Recall: 0.2000 - Time elapsed: 12s\n",
      "--- Epoch 2/50 - Batch 1/3 - Batch Loss: 0.8790 - Batch Acc: 5.5938 - Batch Hamming Loss: 0.3785 - Batch F1: 0.1550 - Batch Precision: 0.1031 - Batch Recall: 0.3125\n",
      "--- Epoch 2/50 - Batch 2/3 - Batch Loss: 0.9151 - Batch Acc: 5.4219 - Batch Hamming Loss: 0.3880 - Batch F1: 0.1320 - Batch Precision: 0.0879 - Batch Recall: 0.2656\n",
      "--- Epoch 2/50 - Batch 3/3 - Batch Loss: 1.0019 - Batch Acc: 5.3793 - Batch Hamming Loss: 0.3907 - Batch F1: 0.1321 - Batch Precision: 0.0877 - Batch Recall: 0.2675\n",
      "Epoch 2/50 - Train Loss: 0.0833 - Train Acc: 0.4983 - Train Hamming Loss: 0.3857 - Train F1: 0.1397 - Train Precision: 0.0929 - Train Recall: 0.2819 - Val Loss: 0.9916 - Val Acc: 0.3715 - Val Hamming Loss: 0.4056 - Val F1: 0.0988 - Val Precision: 0.0656 - Val Recall: 0.2000 - Time elapsed: 7s\n",
      "--- Epoch 3/50 - Batch 1/3 - Batch Loss: 0.9279 - Batch Acc: 5.5781 - Batch Hamming Loss: 0.3802 - Batch F1: 0.1344 - Batch Precision: 0.0899 - Batch Recall: 0.2656\n",
      "--- Epoch 3/50 - Batch 2/3 - Batch Loss: 0.8876 - Batch Acc: 5.4375 - Batch Hamming Loss: 0.3880 - Batch F1: 0.1387 - Batch Precision: 0.0921 - Batch Recall: 0.2812\n",
      "--- Epoch 3/50 - Batch 3/3 - Batch Loss: 0.9545 - Batch Acc: 5.3793 - Batch Hamming Loss: 0.3907 - Batch F1: 0.1321 - Batch Precision: 0.0877 - Batch Recall: 0.2675\n",
      "Epoch 3/50 - Train Loss: 0.0833 - Train Acc: 0.4983 - Train Hamming Loss: 0.3863 - Train F1: 0.1351 - Train Precision: 0.0899 - Train Recall: 0.2715 - Val Loss: 0.9916 - Val Acc: 0.3715 - Val Hamming Loss: 0.4056 - Val F1: 0.0988 - Val Precision: 0.0656 - Val Recall: 0.2000 - Time elapsed: 6s\n",
      "--- Epoch 4/50 - Batch 1/3 - Batch Loss: 0.9403 - Batch Acc: 5.4219 - Batch Hamming Loss: 0.3976 - Batch F1: 0.1358 - Batch Precision: 0.0896 - Batch Recall: 0.2812\n",
      "--- Epoch 4/50 - Batch 2/3 - Batch Loss: 0.8997 - Batch Acc: 5.4219 - Batch Hamming Loss: 0.3976 - Batch F1: 0.1391 - Batch Precision: 0.0916 - Batch Recall: 0.2891\n",
      "--- Epoch 4/50 - Batch 3/3 - Batch Loss: 0.9006 - Batch Acc: 5.7586 - Batch Hamming Loss: 0.3907 - Batch F1: 0.1321 - Batch Precision: 0.0877 - Batch Recall: 0.2675\n",
      "Epoch 4/50 - Train Loss: 0.0833 - Train Acc: 0.4983 - Train Hamming Loss: 0.3953 - Train F1: 0.1357 - Train Precision: 0.0896 - Train Recall: 0.2793 - Val Loss: 0.9916 - Val Acc: 0.3715 - Val Hamming Loss: 0.4056 - Val F1: 0.0988 - Val Precision: 0.0656 - Val Recall: 0.2000 - Time elapsed: 7s\n",
      "--- Epoch 5/50 - Batch 1/3 - Batch Loss: 1.0098 - Batch Acc: 5.4844 - Batch Hamming Loss: 0.3906 - Batch F1: 0.1509 - Batch Precision: 0.0995 - Batch Recall: 0.3125\n",
      "--- Epoch 5/50 - Batch 2/3 - Batch Loss: 0.8084 - Batch Acc: 5.5625 - Batch Hamming Loss: 0.3863 - Batch F1: 0.1292 - Batch Precision: 0.0862 - Batch Recall: 0.2578\n",
      "--- Epoch 5/50 - Batch 3/3 - Batch Loss: 0.9488 - Batch Acc: 5.3103 - Batch Hamming Loss: 0.3907 - Batch F1: 0.1321 - Batch Precision: 0.0877 - Batch Recall: 0.2675\n",
      "Epoch 5/50 - Train Loss: 0.0833 - Train Acc: 0.4983 - Train Hamming Loss: 0.3892 - Train F1: 0.1374 - Train Precision: 0.0911 - Train Recall: 0.2793 - Val Loss: 0.9916 - Val Acc: 0.3715 - Val Hamming Loss: 0.4056 - Val F1: 0.0988 - Val Precision: 0.0656 - Val Recall: 0.2000 - Time elapsed: 6s\n",
      "--- Epoch 6/50 - Batch 1/3 - Batch Loss: 0.8890 - Batch Acc: 5.4375 - Batch Hamming Loss: 0.3958 - Batch F1: 0.1556 - Batch Precision: 0.1019 - Batch Recall: 0.3281\n"
     ]
    },
    {
     "ename": "KeyboardInterrupt",
     "evalue": "",
     "output_type": "error",
     "traceback": [
      "\u001b[0;31m---------------------------------------------------------------------------\u001b[0m",
      "\u001b[0;31mKeyboardInterrupt\u001b[0m                         Traceback (most recent call last)",
      "Cell \u001b[0;32mIn[55], line 26\u001b[0m\n\u001b[1;32m     23\u001b[0m train_precision_cum \u001b[38;5;241m=\u001b[39m \u001b[38;5;241m0.0\u001b[39m\n\u001b[1;32m     24\u001b[0m train_recall_cum \u001b[38;5;241m=\u001b[39m \u001b[38;5;241m0.0\u001b[39m\n\u001b[0;32m---> 26\u001b[0m \u001b[38;5;28;01mfor\u001b[39;00m batch_idx, (images, labels) \u001b[38;5;129;01min\u001b[39;00m \u001b[38;5;28menumerate\u001b[39m(train_loader):\n\u001b[1;32m     27\u001b[0m     images \u001b[38;5;241m=\u001b[39m images\u001b[38;5;241m.\u001b[39mto(device)\n\u001b[1;32m     28\u001b[0m     labels \u001b[38;5;241m=\u001b[39m labels\u001b[38;5;241m.\u001b[39mto(device)\n",
      "File \u001b[0;32m~/micromamba/lib/python3.9/site-packages/torch/utils/data/dataloader.py:630\u001b[0m, in \u001b[0;36m_BaseDataLoaderIter.__next__\u001b[0;34m(self)\u001b[0m\n\u001b[1;32m    627\u001b[0m \u001b[38;5;28;01mif\u001b[39;00m \u001b[38;5;28mself\u001b[39m\u001b[38;5;241m.\u001b[39m_sampler_iter \u001b[38;5;129;01mis\u001b[39;00m \u001b[38;5;28;01mNone\u001b[39;00m:\n\u001b[1;32m    628\u001b[0m     \u001b[38;5;66;03m# TODO(https://github.com/pytorch/pytorch/issues/76750)\u001b[39;00m\n\u001b[1;32m    629\u001b[0m     \u001b[38;5;28mself\u001b[39m\u001b[38;5;241m.\u001b[39m_reset()  \u001b[38;5;66;03m# type: ignore[call-arg]\u001b[39;00m\n\u001b[0;32m--> 630\u001b[0m data \u001b[38;5;241m=\u001b[39m \u001b[38;5;28;43mself\u001b[39;49m\u001b[38;5;241;43m.\u001b[39;49m\u001b[43m_next_data\u001b[49m\u001b[43m(\u001b[49m\u001b[43m)\u001b[49m\n\u001b[1;32m    631\u001b[0m \u001b[38;5;28mself\u001b[39m\u001b[38;5;241m.\u001b[39m_num_yielded \u001b[38;5;241m+\u001b[39m\u001b[38;5;241m=\u001b[39m \u001b[38;5;241m1\u001b[39m\n\u001b[1;32m    632\u001b[0m \u001b[38;5;28;01mif\u001b[39;00m \u001b[38;5;28mself\u001b[39m\u001b[38;5;241m.\u001b[39m_dataset_kind \u001b[38;5;241m==\u001b[39m _DatasetKind\u001b[38;5;241m.\u001b[39mIterable \u001b[38;5;129;01mand\u001b[39;00m \\\n\u001b[1;32m    633\u001b[0m         \u001b[38;5;28mself\u001b[39m\u001b[38;5;241m.\u001b[39m_IterableDataset_len_called \u001b[38;5;129;01mis\u001b[39;00m \u001b[38;5;129;01mnot\u001b[39;00m \u001b[38;5;28;01mNone\u001b[39;00m \u001b[38;5;129;01mand\u001b[39;00m \\\n\u001b[1;32m    634\u001b[0m         \u001b[38;5;28mself\u001b[39m\u001b[38;5;241m.\u001b[39m_num_yielded \u001b[38;5;241m>\u001b[39m \u001b[38;5;28mself\u001b[39m\u001b[38;5;241m.\u001b[39m_IterableDataset_len_called:\n",
      "File \u001b[0;32m~/micromamba/lib/python3.9/site-packages/torch/utils/data/dataloader.py:673\u001b[0m, in \u001b[0;36m_SingleProcessDataLoaderIter._next_data\u001b[0;34m(self)\u001b[0m\n\u001b[1;32m    671\u001b[0m \u001b[38;5;28;01mdef\u001b[39;00m \u001b[38;5;21m_next_data\u001b[39m(\u001b[38;5;28mself\u001b[39m):\n\u001b[1;32m    672\u001b[0m     index \u001b[38;5;241m=\u001b[39m \u001b[38;5;28mself\u001b[39m\u001b[38;5;241m.\u001b[39m_next_index()  \u001b[38;5;66;03m# may raise StopIteration\u001b[39;00m\n\u001b[0;32m--> 673\u001b[0m     data \u001b[38;5;241m=\u001b[39m \u001b[38;5;28;43mself\u001b[39;49m\u001b[38;5;241;43m.\u001b[39;49m\u001b[43m_dataset_fetcher\u001b[49m\u001b[38;5;241;43m.\u001b[39;49m\u001b[43mfetch\u001b[49m\u001b[43m(\u001b[49m\u001b[43mindex\u001b[49m\u001b[43m)\u001b[49m  \u001b[38;5;66;03m# may raise StopIteration\u001b[39;00m\n\u001b[1;32m    674\u001b[0m     \u001b[38;5;28;01mif\u001b[39;00m \u001b[38;5;28mself\u001b[39m\u001b[38;5;241m.\u001b[39m_pin_memory:\n\u001b[1;32m    675\u001b[0m         data \u001b[38;5;241m=\u001b[39m _utils\u001b[38;5;241m.\u001b[39mpin_memory\u001b[38;5;241m.\u001b[39mpin_memory(data, \u001b[38;5;28mself\u001b[39m\u001b[38;5;241m.\u001b[39m_pin_memory_device)\n",
      "File \u001b[0;32m~/micromamba/lib/python3.9/site-packages/torch/utils/data/_utils/fetch.py:50\u001b[0m, in \u001b[0;36m_MapDatasetFetcher.fetch\u001b[0;34m(self, possibly_batched_index)\u001b[0m\n\u001b[1;32m     48\u001b[0m \u001b[38;5;28;01mif\u001b[39;00m \u001b[38;5;28mself\u001b[39m\u001b[38;5;241m.\u001b[39mauto_collation:\n\u001b[1;32m     49\u001b[0m     \u001b[38;5;28;01mif\u001b[39;00m \u001b[38;5;28mhasattr\u001b[39m(\u001b[38;5;28mself\u001b[39m\u001b[38;5;241m.\u001b[39mdataset, \u001b[38;5;124m\"\u001b[39m\u001b[38;5;124m__getitems__\u001b[39m\u001b[38;5;124m\"\u001b[39m) \u001b[38;5;129;01mand\u001b[39;00m \u001b[38;5;28mself\u001b[39m\u001b[38;5;241m.\u001b[39mdataset\u001b[38;5;241m.\u001b[39m__getitems__:\n\u001b[0;32m---> 50\u001b[0m         data \u001b[38;5;241m=\u001b[39m \u001b[38;5;28;43mself\u001b[39;49m\u001b[38;5;241;43m.\u001b[39;49m\u001b[43mdataset\u001b[49m\u001b[38;5;241;43m.\u001b[39;49m\u001b[43m__getitems__\u001b[49m\u001b[43m(\u001b[49m\u001b[43mpossibly_batched_index\u001b[49m\u001b[43m)\u001b[49m\n\u001b[1;32m     51\u001b[0m     \u001b[38;5;28;01melse\u001b[39;00m:\n\u001b[1;32m     52\u001b[0m         data \u001b[38;5;241m=\u001b[39m [\u001b[38;5;28mself\u001b[39m\u001b[38;5;241m.\u001b[39mdataset[idx] \u001b[38;5;28;01mfor\u001b[39;00m idx \u001b[38;5;129;01min\u001b[39;00m possibly_batched_index]\n",
      "File \u001b[0;32m~/micromamba/lib/python3.9/site-packages/torch/utils/data/dataset.py:420\u001b[0m, in \u001b[0;36mSubset.__getitems__\u001b[0;34m(self, indices)\u001b[0m\n\u001b[1;32m    418\u001b[0m     \u001b[38;5;28;01mreturn\u001b[39;00m \u001b[38;5;28mself\u001b[39m\u001b[38;5;241m.\u001b[39mdataset\u001b[38;5;241m.\u001b[39m__getitems__([\u001b[38;5;28mself\u001b[39m\u001b[38;5;241m.\u001b[39mindices[idx] \u001b[38;5;28;01mfor\u001b[39;00m idx \u001b[38;5;129;01min\u001b[39;00m indices])  \u001b[38;5;66;03m# type: ignore[attr-defined]\u001b[39;00m\n\u001b[1;32m    419\u001b[0m \u001b[38;5;28;01melse\u001b[39;00m:\n\u001b[0;32m--> 420\u001b[0m     \u001b[38;5;28;01mreturn\u001b[39;00m [\u001b[38;5;28mself\u001b[39m\u001b[38;5;241m.\u001b[39mdataset[\u001b[38;5;28mself\u001b[39m\u001b[38;5;241m.\u001b[39mindices[idx]] \u001b[38;5;28;01mfor\u001b[39;00m idx \u001b[38;5;129;01min\u001b[39;00m indices]\n",
      "File \u001b[0;32m~/micromamba/lib/python3.9/site-packages/torch/utils/data/dataset.py:420\u001b[0m, in \u001b[0;36m<listcomp>\u001b[0;34m(.0)\u001b[0m\n\u001b[1;32m    418\u001b[0m     \u001b[38;5;28;01mreturn\u001b[39;00m \u001b[38;5;28mself\u001b[39m\u001b[38;5;241m.\u001b[39mdataset\u001b[38;5;241m.\u001b[39m__getitems__([\u001b[38;5;28mself\u001b[39m\u001b[38;5;241m.\u001b[39mindices[idx] \u001b[38;5;28;01mfor\u001b[39;00m idx \u001b[38;5;129;01min\u001b[39;00m indices])  \u001b[38;5;66;03m# type: ignore[attr-defined]\u001b[39;00m\n\u001b[1;32m    419\u001b[0m \u001b[38;5;28;01melse\u001b[39;00m:\n\u001b[0;32m--> 420\u001b[0m     \u001b[38;5;28;01mreturn\u001b[39;00m [\u001b[38;5;28;43mself\u001b[39;49m\u001b[38;5;241;43m.\u001b[39;49m\u001b[43mdataset\u001b[49m\u001b[43m[\u001b[49m\u001b[38;5;28;43mself\u001b[39;49m\u001b[38;5;241;43m.\u001b[39;49m\u001b[43mindices\u001b[49m\u001b[43m[\u001b[49m\u001b[43midx\u001b[49m\u001b[43m]\u001b[49m\u001b[43m]\u001b[49m \u001b[38;5;28;01mfor\u001b[39;00m idx \u001b[38;5;129;01min\u001b[39;00m indices]\n",
      "Cell \u001b[0;32mIn[44], line 13\u001b[0m, in \u001b[0;36mEmotionDataset.__getitem__\u001b[0;34m(self, idx)\u001b[0m\n\u001b[1;32m     11\u001b[0m \u001b[38;5;28;01mdef\u001b[39;00m \u001b[38;5;21m__getitem__\u001b[39m(\u001b[38;5;28mself\u001b[39m, idx):\n\u001b[1;32m     12\u001b[0m     row \u001b[38;5;241m=\u001b[39m \u001b[38;5;28mself\u001b[39m\u001b[38;5;241m.\u001b[39mdf\u001b[38;5;241m.\u001b[39miloc[idx]\n\u001b[0;32m---> 13\u001b[0m     image \u001b[38;5;241m=\u001b[39m \u001b[43mImage\u001b[49m\u001b[38;5;241;43m.\u001b[39;49m\u001b[43mopen\u001b[49m\u001b[43m(\u001b[49m\u001b[43mrow\u001b[49m\u001b[43m[\u001b[49m\u001b[38;5;124;43m'\u001b[39;49m\u001b[38;5;124;43mimage_file\u001b[39;49m\u001b[38;5;124;43m'\u001b[39;49m\u001b[43m]\u001b[49m\u001b[43m)\u001b[49m\u001b[38;5;241;43m.\u001b[39;49m\u001b[43mconvert\u001b[49m\u001b[43m(\u001b[49m\u001b[38;5;124;43m'\u001b[39;49m\u001b[38;5;124;43mRGB\u001b[39;49m\u001b[38;5;124;43m'\u001b[39;49m\u001b[43m)\u001b[49m\n\u001b[1;32m     14\u001b[0m     \u001b[38;5;28;01mif\u001b[39;00m \u001b[38;5;28mself\u001b[39m\u001b[38;5;241m.\u001b[39mtransform:\n\u001b[1;32m     15\u001b[0m         image \u001b[38;5;241m=\u001b[39m \u001b[38;5;28mself\u001b[39m\u001b[38;5;241m.\u001b[39mtransform(image)\n",
      "File \u001b[0;32m~/micromamba/lib/python3.9/site-packages/PIL/Image.py:911\u001b[0m, in \u001b[0;36mImage.convert\u001b[0;34m(self, mode, matrix, dither, palette, colors)\u001b[0m\n\u001b[1;32m    863\u001b[0m \u001b[38;5;28;01mdef\u001b[39;00m \u001b[38;5;21mconvert\u001b[39m(\n\u001b[1;32m    864\u001b[0m     \u001b[38;5;28mself\u001b[39m, mode\u001b[38;5;241m=\u001b[39m\u001b[38;5;28;01mNone\u001b[39;00m, matrix\u001b[38;5;241m=\u001b[39m\u001b[38;5;28;01mNone\u001b[39;00m, dither\u001b[38;5;241m=\u001b[39m\u001b[38;5;28;01mNone\u001b[39;00m, palette\u001b[38;5;241m=\u001b[39mPalette\u001b[38;5;241m.\u001b[39mWEB, colors\u001b[38;5;241m=\u001b[39m\u001b[38;5;241m256\u001b[39m\n\u001b[1;32m    865\u001b[0m ):\n\u001b[1;32m    866\u001b[0m \u001b[38;5;250m    \u001b[39m\u001b[38;5;124;03m\"\"\"\u001b[39;00m\n\u001b[1;32m    867\u001b[0m \u001b[38;5;124;03m    Returns a converted copy of this image. For the \"P\" mode, this\u001b[39;00m\n\u001b[1;32m    868\u001b[0m \u001b[38;5;124;03m    method translates pixels through the palette.  If mode is\u001b[39;00m\n\u001b[0;32m   (...)\u001b[0m\n\u001b[1;32m    908\u001b[0m \u001b[38;5;124;03m    :returns: An :py:class:`~PIL.Image.Image` object.\u001b[39;00m\n\u001b[1;32m    909\u001b[0m \u001b[38;5;124;03m    \"\"\"\u001b[39;00m\n\u001b[0;32m--> 911\u001b[0m     \u001b[38;5;28;43mself\u001b[39;49m\u001b[38;5;241;43m.\u001b[39;49m\u001b[43mload\u001b[49m\u001b[43m(\u001b[49m\u001b[43m)\u001b[49m\n\u001b[1;32m    913\u001b[0m     has_transparency \u001b[38;5;241m=\u001b[39m \u001b[38;5;28mself\u001b[39m\u001b[38;5;241m.\u001b[39minfo\u001b[38;5;241m.\u001b[39mget(\u001b[38;5;124m\"\u001b[39m\u001b[38;5;124mtransparency\u001b[39m\u001b[38;5;124m\"\u001b[39m) \u001b[38;5;129;01mis\u001b[39;00m \u001b[38;5;129;01mnot\u001b[39;00m \u001b[38;5;28;01mNone\u001b[39;00m\n\u001b[1;32m    914\u001b[0m     \u001b[38;5;28;01mif\u001b[39;00m \u001b[38;5;129;01mnot\u001b[39;00m mode \u001b[38;5;129;01mand\u001b[39;00m \u001b[38;5;28mself\u001b[39m\u001b[38;5;241m.\u001b[39mmode \u001b[38;5;241m==\u001b[39m \u001b[38;5;124m\"\u001b[39m\u001b[38;5;124mP\u001b[39m\u001b[38;5;124m\"\u001b[39m:\n\u001b[1;32m    915\u001b[0m         \u001b[38;5;66;03m# determine default mode\u001b[39;00m\n",
      "File \u001b[0;32m~/micromamba/lib/python3.9/site-packages/PIL/ImageFile.py:269\u001b[0m, in \u001b[0;36mImageFile.load\u001b[0;34m(self)\u001b[0m\n\u001b[1;32m    266\u001b[0m         \u001b[38;5;28;01mraise\u001b[39;00m \u001b[38;5;167;01mOSError\u001b[39;00m(msg)\n\u001b[1;32m    268\u001b[0m b \u001b[38;5;241m=\u001b[39m b \u001b[38;5;241m+\u001b[39m s\n\u001b[0;32m--> 269\u001b[0m n, err_code \u001b[38;5;241m=\u001b[39m \u001b[43mdecoder\u001b[49m\u001b[38;5;241;43m.\u001b[39;49m\u001b[43mdecode\u001b[49m\u001b[43m(\u001b[49m\u001b[43mb\u001b[49m\u001b[43m)\u001b[49m\n\u001b[1;32m    270\u001b[0m \u001b[38;5;28;01mif\u001b[39;00m n \u001b[38;5;241m<\u001b[39m \u001b[38;5;241m0\u001b[39m:\n\u001b[1;32m    271\u001b[0m     \u001b[38;5;28;01mbreak\u001b[39;00m\n",
      "\u001b[0;31mKeyboardInterrupt\u001b[0m: "
     ]
    }
   ],
   "source": [
    "val_loader = validation_loader\n",
    "device = DEVICE\n",
    "num_epochs = 50\n",
    "csv_file = \"output.csv\"\n",
    "since = time.time()\n",
    "best_val_acc = 0.0\n",
    "\n",
    "\n",
    "for epoch in range(num_epochs):\n",
    "    model.train()\n",
    "    train_loss = 0.0\n",
    "    train_correct = 0.0\n",
    "    train_total = 0.0\n",
    "    train_predictions = []\n",
    "    train_targets = []\n",
    "    \n",
    "    # Record the start time for this epoch\n",
    "    start_time = time.time()\n",
    "\n",
    "    # Initialize cumulative metrics for training\n",
    "    train_hamming_loss_cum = 0.0\n",
    "    train_f1_cum = 0.0\n",
    "    train_precision_cum = 0.0\n",
    "    train_recall_cum = 0.0\n",
    "\n",
    "    for batch_idx, (images, labels) in enumerate(train_loader):\n",
    "        images = images.to(device)\n",
    "        labels = labels.to(device)\n",
    "\n",
    "        optimizer.zero_grad()\n",
    "        outputs = model(images)\n",
    "        _, predicted = torch.max(outputs.data, 1)\n",
    "        predicted = (outputs > 0.5).float()\n",
    "        loss = criterion(outputs, labels)\n",
    "        loss.backward()\n",
    "        optimizer.step()\n",
    "\n",
    "        # Convert predicted and labels tensors to NumPy arrays\n",
    "        predicted_numpy = predicted.cpu().numpy()\n",
    "        labels_numpy = labels.cpu().numpy()\n",
    "\n",
    "\n",
    "\n",
    "        # Update metrics\n",
    "        batch_loss = loss.item()\n",
    "        #batch_total = labels.size(0)\n",
    "        batch_total = images.size(0)\n",
    "        batch_correct = (predicted_numpy == labels_numpy).sum()\n",
    "        #batch_correct = accuracy_score_cal(labels_numpy, predicted_numpy)\n",
    "        \n",
    "        \n",
    "        \"\"\" train_loss += loss.item() * images.size(0)\n",
    "        train_correct += accuracy_score_cal(labels_numpy, predicted_numpy)\n",
    "        train_total += labels.size(0) \"\"\"\n",
    "        \n",
    "        #train_loss += batch_loss * batch_total\n",
    "        train_loss += loss.item() * images.size(0)\n",
    "        #train_correct += batch_correct * batch_total\n",
    "        train_correct += accuracy_score_cal(labels_numpy, predicted_numpy)\n",
    "        #train_total += batch_total\n",
    "        train_total += 64*9\n",
    "\n",
    "        train_predictions.extend(predicted_numpy.tolist())\n",
    "        train_targets.extend(labels_numpy.tolist())\n",
    "\n",
    "        # Calculate batch metrics\n",
    "        train_hamming_loss_batch = hamming_loss(train_targets, train_predictions)\n",
    "        train_f1_batch = f1_score(train_targets, train_predictions, average='micro')\n",
    "        train_precision_batch = precision_score(train_targets, train_predictions, average='micro')\n",
    "        train_recall_batch = recall_score(train_targets, train_predictions, average='micro')\n",
    "\n",
    "       \n",
    "       # Print batch-level metrics\n",
    "        print(\"---\",f\"Epoch {epoch+1}/{num_epochs} - Batch {batch_idx+1}/{len(train_loader)} - \"\n",
    "              f\"Batch Loss: {batch_loss:.4f} - Batch Acc: {batch_correct / batch_total:.4f} - \"\n",
    "              f\"Batch Hamming Loss: {train_hamming_loss_batch:.4f} - \"\n",
    "              f\"Batch F1: {train_f1_batch:.4f} - Batch Precision: {train_precision_batch:.4f} - Batch Recall: {train_recall_batch:.4f}\")\n",
    "\n",
    "       \n",
    "        # Accumulate batch metrics\n",
    "        train_hamming_loss_cum += train_hamming_loss_batch\n",
    "        train_f1_cum += train_f1_batch\n",
    "        train_precision_cum += train_precision_batch\n",
    "        train_recall_cum += train_recall_batch\n",
    "\n",
    "    # After processing all batches in the epoch\n",
    "    train_loss /= train_total\n",
    "    train_acc = train_correct / train_total\n",
    "\n",
    "    # Calculate average metrics for the entire epoch\n",
    "    train_hamming_loss = train_hamming_loss_cum / len(train_loader)\n",
    "    train_f1 = train_f1_cum / len(train_loader)\n",
    "    train_precision = train_precision_cum / len(train_loader)\n",
    "    train_recall = train_recall_cum / len(train_loader)\n",
    "\n",
    "\n",
    "    \n",
    "    model.eval()\n",
    "    val_loss = 0.0\n",
    "    val_correct = 0.0\n",
    "    val_total = 0.0\n",
    "    val_total_acc = 0.0\n",
    "    val_predictions = []\n",
    "    val_targets = []\n",
    "\n",
    "    # Initialize cumulative metrics for validation\n",
    "    val_hamming_loss_cum = 0.0\n",
    "    val_f1_cum = 0.0\n",
    "    val_precision_cum = 0.0\n",
    "    val_recall_cum = 0.0\n",
    "\n",
    "    with torch.no_grad():\n",
    "      for images, labels in val_loader:\n",
    "        images = images.to(device)\n",
    "        labels = labels.to(device)\n",
    "\n",
    "        outputs = model(images)\n",
    "        _, predicted = torch.max(outputs.data, 1)\n",
    "        predicted = (outputs > 0.5).float()\n",
    "        loss = criterion(outputs, labels)\n",
    "\n",
    "        # Convert predicted and labels tensors to NumPy arrays\n",
    "        predicted_numpy = predicted.cpu().numpy()\n",
    "        labels_numpy = labels.cpu().numpy()\n",
    "\n",
    "\n",
    "\n",
    "        val_loss += loss.item() * images.size(0)\n",
    "        val_correct += accuracy_score_cal(labels_numpy, predicted_numpy)\n",
    "        val_total +=labels.size(0)\n",
    "        val_total_acc += 64*9\n",
    "\n",
    "        val_predictions.extend(predicted_numpy.tolist())\n",
    "        val_targets.extend(labels_numpy.tolist())\n",
    "\n",
    "        # Calculate validation metrics\n",
    "        val_loss /= val_total\n",
    "        val_acc = val_correct / val_total_acc\n",
    "        val_hamming_loss = hamming_loss(val_targets, val_predictions)\n",
    "        val_f1 = f1_score(val_targets, val_predictions, average='micro')\n",
    "        val_precision = precision_score(val_targets, val_predictions, average='micro')     \n",
    "        val_recall = recall_score(val_targets, val_predictions, average='micro')\n",
    "      \n",
    "        # Calculate elapsed time for this epoch\n",
    "        time_elapsed = time.time() - start_time\n",
    "\n",
    "        # Print the validation metrics for the epoch\n",
    "        print(f\"Epoch {epoch+1}/{num_epochs} - \"\n",
    "                f\"Train Loss: {train_loss:.4f} - Train Acc: {train_acc:.4f} - \"\n",
    "                f\"Train Hamming Loss: {train_hamming_loss:.4f} - \"\n",
    "                f\"Train F1: {train_f1:.4f} - Train Precision: {train_precision:.4f} - Train Recall: {train_recall:.4f} - \"\n",
    "                f\"Val Loss: {val_loss:.4f} - Val Acc: {val_acc:.4f} - \"\n",
    "                f\"Val Hamming Loss: {val_hamming_loss:.4f} - \"\n",
    "                f\"Val F1: {val_f1:.4f} - Val Precision: {val_precision:.4f} - Val Recall: {val_recall:.4f} - \"\n",
    "                f\"Time elapsed: {time_elapsed:.0f}s\")\n",
    "\n",
    "        # Append metrics to history dictionary\n",
    "        history['epoch'].append(epoch + 1)\n",
    "        history['train_loss'].append(train_loss)\n",
    "        history['train_acc'].append(train_acc)\n",
    "        history['train_hamming_loss'].append(train_hamming_loss)\n",
    "        history['train_f1'].append(train_f1)\n",
    "        history['train_precision'].append(train_precision)\n",
    "        history['train_recall'].append(train_recall)\n",
    "        history['val_loss'].append(val_loss)\n",
    "        history['val_acc'].append(val_acc)\n",
    "        history['val_hamming_loss'].append(val_hamming_loss)\n",
    "        history['val_f1'].append(val_f1)\n",
    "        history['val_precision'].append(val_precision)\n",
    "        history['val_recall'].append(val_recall)\n",
    "\n",
    "        if val_acc > best_val_acc:\n",
    "          best_val_acc = val_acc\n",
    "          torch.save(model.state_dict(), \"best_model_vgg.pth\")\n",
    "\n",
    "    \n",
    "\n",
    "\n",
    "# Final print\n",
    "time_elapsed = time.time() - since\n",
    "print(f\"Training complete in {time_elapsed:.0f}s\")\n",
    "print(f\"Best validation accuracy: {best_val_acc:.4f}\")\n",
    "\n",
    "# Save history dictionary to a CSV file\n",
    "df = pd.DataFrame(history)\n",
    "df.to_csv(csv_file, index=False)\n",
    "\n",
    "print(history)\n",
    "\n",
    "# Plotting\n",
    "plt.figure(figsize=(12, 6))\n",
    "plt.subplot(1, 2, 1)\n",
    "plt.plot(history['epoch'], history['train_loss'], label='Train Loss')\n",
    "plt.plot(history['epoch'], history['val_loss'], label='Validation Loss')\n",
    "plt.xlabel('Epoch')\n",
    "plt.ylabel('Loss')\n",
    "plt.title('Training & Validation Loss')\n",
    "plt.legend()\n",
    "\n",
    "plt.subplot(1, 2, 2)\n",
    "plt.plot(history['epoch'], history['train_acc'], label='Train Accuracy')\n",
    "plt.plot(history['epoch'], history['val_acc'], label='Validation Accuracy')\n",
    "plt.xlabel('Epoch')\n",
    "plt.ylabel('Accuracy')\n",
    "plt.title('Training & Validation Accuracy')\n",
    "plt.legend()\n",
    "\n",
    "plt.tight_layout()\n",
    "plt.show()"
   ]
  },
  {
   "cell_type": "markdown",
   "metadata": {},
   "source": [
    "Run\n"
   ]
  },
  {
   "cell_type": "code",
   "execution_count": null,
   "metadata": {},
   "outputs": [
    {
     "name": "stdout",
     "output_type": "stream",
     "text": [
      "start runnig ...\n"
     ]
    }
   ],
   "source": [
    "\n",
    "csv_file = 'training_history_vgg.csv'\n",
    "print('start runnig ...')\n",
    "\n"
   ]
  }
 ],
 "metadata": {
  "kernelspec": {
   "display_name": "base",
   "language": "python",
   "name": "python3"
  },
  "language_info": {
   "codemirror_mode": {
    "name": "ipython",
    "version": 3
   },
   "file_extension": ".py",
   "mimetype": "text/x-python",
   "name": "python",
   "nbconvert_exporter": "python",
   "pygments_lexer": "ipython3",
   "version": "3.9.16"
  }
 },
 "nbformat": 4,
 "nbformat_minor": 2
}
